{
  "cells": [
    {
      "cell_type": "code",
      "execution_count": null,
      "metadata": {
        "colab": {
          "base_uri": "https://localhost:8080/",
          "height": 73
        },
        "id": "2lWqY4V8Cthn",
        "outputId": "47858fda-d1ea-4302-ed36-2b7427ad6b66"
      },
      "outputs": [
        {
          "ename": "",
          "evalue": "",
          "output_type": "error",
          "traceback": [
            "\u001b[1;31mRunning cells with 'c:\\Users\\Coby\\AppData\\Local\\Programs\\Python\\Python312\\python.exe' requires the ipykernel package.\n",
            "\u001b[1;31mRun the following command to install 'ipykernel' into the Python environment. \n",
            "\u001b[1;31mCommand: 'c:/Users/Coby/AppData/Local/Programs/Python/Python312/python.exe -m pip install ipykernel -U --user --force-reinstall'"
          ]
        }
      ],
      "source": [
        "from google.colab import files\n",
        "uploaded = files.upload()"
      ]
    },
    {
      "cell_type": "code",
      "execution_count": null,
      "metadata": {
        "colab": {
          "base_uri": "https://localhost:8080/"
        },
        "id": "DGdwZ_qGTtOE",
        "outputId": "6cc0e53c-0f67-498d-ed09-c8dd82795488"
      },
      "outputs": [
        {
          "name": "stdout",
          "output_type": "stream",
          "text": [
            "Processed Training Data:\n",
            "     ApplicantIncome  CoapplicantIncome  LoanAmount  Loan_Amount_Term  \\\n",
            "25              9560                0.0       191.0             360.0   \n",
            "263             7200                0.0       120.0             360.0   \n",
            "562             5923             2054.0       211.0             360.0   \n",
            "588             4750                0.0        94.0             360.0   \n",
            "120             5667             2667.0       180.0             360.0   \n",
            "\n",
            "     Credit_History  Gender_Female  Gender_Male  Married_No  Married_Yes  \\\n",
            "25              1.0              0            1           0            1   \n",
            "263             1.0              1            0           1            0   \n",
            "562             1.0              0            1           0            1   \n",
            "588             1.0              0            0           1            0   \n",
            "120             1.0              0            1           0            1   \n",
            "\n",
            "     Education_Graduate  Education_Not Graduate  Self_Employed_No  \\\n",
            "25                    1                       0                 0   \n",
            "263                   1                       0                 1   \n",
            "562                   1                       0                 1   \n",
            "588                   1                       0                 1   \n",
            "120                   1                       0                 1   \n",
            "\n",
            "     Self_Employed_Yes  Property_Area_Rural  Property_Area_Semiurban  \\\n",
            "25                   1                    0                        1   \n",
            "263                  0                    1                        0   \n",
            "562                  0                    1                        0   \n",
            "588                  0                    0                        1   \n",
            "120                  0                    1                        0   \n",
            "\n",
            "     Property_Area_Urban  \n",
            "25                     0  \n",
            "263                    0  \n",
            "562                    0  \n",
            "588                    0  \n",
            "120                    0  \n",
            "\n",
            "Accuracy: 0.78\n",
            "Sensitivity: 0.92\n",
            "Specificity: 0.52\n",
            "Precision: 0.79\n",
            "F1 Score: 0.85\n",
            "AUC: 0.73\n",
            "\n",
            "Classification Report:\n",
            "              precision    recall  f1-score   support\n",
            "\n",
            "           0       0.76      0.52      0.62        54\n",
            "           1       0.79      0.92      0.85       106\n",
            "\n",
            "    accuracy                           0.78       160\n",
            "   macro avg       0.77      0.72      0.73       160\n",
            "weighted avg       0.78      0.78      0.77       160\n",
            "\n"
          ]
        }
      ],
      "source": [
        "import pandas as pd\n",
        "from sklearn.ensemble import AdaBoostClassifier\n",
        "from sklearn.tree import DecisionTreeClassifier\n",
        "from sklearn.model_selection import train_test_split\n",
        "from sklearn.metrics import accuracy_score, classification_report, confusion_matrix, recall_score,confusion_matrix,precision_score, f1_score, roc_auc_score\n",
        "\n",
        "# Load and preprocess the data\n",
        "loan_data = pd.read_csv('Loan_Data.csv')\n",
        "encoded_loan_data = pd.get_dummies(loan_data, columns=['Gender', 'Married', 'Education', 'Self_Employed', 'Property_Area', 'Loan_Status'])\n",
        "X = encoded_loan_data.drop(columns=['Loan_Status_N', 'Loan_Status_Y', 'Loan_ID', 'Dependents'])\n",
        "y = encoded_loan_data['Loan_Status_Y']\n",
        "\n",
        "# Split the data into training and test sets\n",
        "X_train, X_test, y_train, y_test = train_test_split(X, y, test_size=0.3, random_state=50)\n",
        "\n",
        "# Handle missing values in the training set\n",
        "X_train.dropna(inplace=True)\n",
        "y_train = y_train.loc[X_train.index]\n",
        "\n",
        "# Initialize the AdaBoost model with a Decision Tree base estimator\n",
        "base_model = DecisionTreeClassifier(max_depth=1)\n",
        "adaboost_model = AdaBoostClassifier(base_model, n_estimators=50, random_state=42)\n",
        "\n",
        "# Fit the AdaBoost model\n",
        "adaboost_model.fit(X_train, y_train)\n",
        "\n",
        "# Display the processed training data\n",
        "print(\"Processed Training Data:\")\n",
        "print(X_train.head())\n",
        "\n",
        "\n",
        "# Handling missing values in the test set\n",
        "X_test = X_test.loc[y_test.index]  # Align the indices\n",
        "X_test.dropna(inplace=True)\n",
        "y_test = y_test.loc[X_test.index]\n",
        "\n",
        "# Predictions on the test set\n",
        "y_pred = adaboost_model.predict(X_test)\n",
        "\n",
        "\n",
        "# Calculate accuracy\n",
        "accuracy = accuracy_score(y_test, y_pred)\n",
        "print(f\"\\nAccuracy: {accuracy:.2f}\")\n",
        "\n",
        "# Assuming y_test and y_pred are your true labels and predicted labels, respectively\n",
        "sensitivity = recall_score(y_test, y_pred)\n",
        "print(f\"Sensitivity: {sensitivity:.2f}\")\n",
        "\n",
        "# Assuming y_test and y_pred are your true labels and predicted labels, respectively\n",
        "tn, fp, fn, tp = confusion_matrix(y_test, y_pred).ravel()\n",
        "specificity = tn / (tn + fp)\n",
        "print(f\"Specificity: {specificity:.2f}\")\n",
        "\n",
        "# calculating for precision\n",
        "precision = precision_score(y_test, y_pred)\n",
        "print(f\"Precision: {precision:.2f}\")\n",
        "\n",
        "# calculating for the f1 score\n",
        "f1 = f1_score(y_test, y_pred)\n",
        "print(f\"F1 Score: {f1:.2f}\")\n",
        "\n",
        "# Assuming adaboost_model is your trained model and X_test is your test data\n",
        "y_prob = adaboost_model.predict_proba(X_test)[:, 1]\n",
        "auc = roc_auc_score(y_test, y_prob)\n",
        "print(f\"AUC: {auc:.2f}\")\n",
        "\n",
        "\n",
        "# Display classification report\n",
        "class_report = classification_report(y_test, y_pred)\n",
        "print(\"\\nClassification Report:\")\n",
        "print(class_report)\n"
      ]
    },
    {
      "cell_type": "code",
      "execution_count": null,
      "metadata": {
        "colab": {
          "base_uri": "https://localhost:8080/"
        },
        "id": "w5ykIOhpX5a3",
        "outputId": "5a8b4754-8e6e-48c9-f96e-519008dff6b7"
      },
      "outputs": [
        {
          "name": "stdout",
          "output_type": "stream",
          "text": [
            "Accuracy:  0.75\n",
            "Sensitivity: 0.83\n",
            "Specificity: 0.58\n",
            "Precision: 0.80\n",
            "F1 Score: 0.81\n",
            "AUC: 0.70\n"
          ]
        }
      ],
      "source": [
        "import pandas as pd\n",
        "import io\n",
        "from sklearn.tree import DecisionTreeClassifier\n",
        "from sklearn.model_selection import train_test_split\n",
        "from sklearn.metrics import accuracy_score, recall_score,confusion_matrix,precision_score, f1_score, roc_auc_score\n",
        "\n",
        "# loading the dataset\n",
        "loan_data = pd.read_csv('Loan_Data.csv')\n",
        "\n",
        "# encoding the categorical features(string data) in the dataset set into numerial features\n",
        "encoded_loan_data = pd.get_dummies(loan_data, columns=['Gender', 'Married', 'Education', 'Self_Employed', 'Property_Area', 'Loan_Status'])\n",
        "X = encoded_loan_data.drop(columns=['Loan_Status_N', 'Loan_Status_Y', 'Loan_ID', 'Dependents'])\n",
        "y = encoded_loan_data['Loan_Status_Y']\n",
        "\n",
        "# spliting the data into train and test set\n",
        "X_train, X_test, y_train, y_test = train_test_split(X, y, test_size=0.3, random_state=42)\n",
        "\n",
        "# # handling missing values in the train data\n",
        "X_train.dropna(inplace=True)\n",
        "y_train = y_train.loc[X_train.index]\n",
        "# training the model\n",
        "decision_tree = DecisionTreeClassifier(random_state=42)\n",
        "decision_tree.fit(X_train, y_train)\n",
        "\n",
        "# handling missing values in the test date\n",
        "X_test = X_test.loc[y_test.index]\n",
        "X_test.dropna(inplace=True)\n",
        "y_test = y_test.loc[X_test.index]\n",
        "\n",
        "# testing\n",
        "prediction = decision_tree.predict(X_test)\n",
        "prediction\n",
        "\n",
        "#calculating for accuracy score of the model\n",
        "accuracy = accuracy_score(y_test, prediction )\n",
        "print(f'Accuracy: {accuracy: .2f}')\n",
        "\n",
        "# Assuming y_test and prediction are your true labels and predicted labels, respectively\n",
        "sensitivity = recall_score(y_test, prediction)\n",
        "print(f\"Sensitivity: {sensitivity:.2f}\")\n",
        "\n",
        "# Assuming y_test and prediction are your true labels and predicted labels, respectively\n",
        "tn, fp, fn, tp = confusion_matrix(y_test, prediction).ravel()\n",
        "specificity = tn / (tn + fp)\n",
        "print(f\"Specificity: {specificity:.2f}\")\n",
        "\n",
        "# calculating for precision\n",
        "precision = precision_score(y_test, prediction)\n",
        "print(f\"Precision: {precision:.2f}\")\n",
        "\n",
        "# calculating for the f1 score\n",
        "f1 = f1_score(y_test, prediction)\n",
        "print(f\"F1 Score: {f1:.2f}\")\n",
        "\n",
        "# Assuming adaboost_model is your trained model and X_test is your test data\n",
        "y_prob = decision_tree.predict_proba(X_test)[:, 1]\n",
        "auc = roc_auc_score(y_test, y_prob)\n",
        "print(f\"AUC: {auc:.2f}\")"
      ]
    },
    {
      "cell_type": "code",
      "execution_count": null,
      "metadata": {
        "colab": {
          "base_uri": "https://localhost:8080/"
        },
        "id": "2y06tcczwXf-",
        "outputId": "e9d57baf-608b-4d92-c31f-1be42d8965fc"
      },
      "outputs": [
        {
          "name": "stdout",
          "output_type": "stream",
          "text": [
            "Accuracy: 0.62\n",
            "Sensitivity: 0.83\n",
            "Specificity: 0.19\n",
            "Precision: 0.67\n",
            "F1 Score: 0.74\n"
          ]
        }
      ],
      "source": [
        "import pandas as pd\n",
        "from sklearn.neighbors import KNeighborsClassifier\n",
        "from sklearn.model_selection import train_test_split\n",
        "from sklearn.metrics import accuracy_score, recall_score, confusion_matrix, precision_score, f1_score\n",
        "\n",
        "# Loading the dataset\n",
        "loan_data = pd.read_csv('Loan_Data.csv')\n",
        "\n",
        "# Encoding the categorical features (string data) in the dataset into numerical features\n",
        "encoded_loan_data = pd.get_dummies(loan_data, columns=['Gender', 'Married', 'Education', 'Self_Employed', 'Property_Area', 'Loan_Status'])\n",
        "X = encoded_loan_data.drop(columns=['Loan_Status_N', 'Loan_Status_Y', 'Loan_ID', 'Dependents'])\n",
        "y = encoded_loan_data['Loan_Status_Y']\n",
        "\n",
        "# Splitting the data into train and test sets\n",
        "X_train, X_test, y_train, y_test = train_test_split(X, y, test_size=0.3, random_state=42)\n",
        "\n",
        "# Handling missing values in the train data\n",
        "X_train.dropna(inplace=True)\n",
        "y_train = y_train.loc[X_train.index]\n",
        "\n",
        "# Training the KNN model\n",
        "knn_model = KNeighborsClassifier()\n",
        "knn_model.fit(X_train, y_train)\n",
        "\n",
        "# Handling missing values in the test data\n",
        "X_test = X_test.loc[y_test.index]\n",
        "X_test.dropna(inplace=True)\n",
        "y_test = y_test.loc[X_test.index]\n",
        "\n",
        "# Testing\n",
        "prediction = knn_model.predict(X_test)\n",
        "\n",
        "# Calculating accuracy score of the model\n",
        "accuracy = accuracy_score(y_test, prediction)\n",
        "print(f'Accuracy: {accuracy:.2f}')\n",
        "\n",
        "# Assuming y_test and prediction are your true labels and predicted labels, respectively\n",
        "sensitivity = recall_score(y_test, prediction)\n",
        "print(f\"Sensitivity: {sensitivity:.2f}\")\n",
        "\n",
        "# Assuming y_test and prediction are your true labels and predicted labels, respectively\n",
        "tn, fp, fn, tp = confusion_matrix(y_test, prediction).ravel()\n",
        "specificity = tn / (tn + fp)\n",
        "print(f\"Specificity: {specificity:.2f}\")\n",
        "\n",
        "# Calculating precision\n",
        "precision = precision_score(y_test, prediction)\n",
        "print(f\"Precision: {precision:.2f}\")\n",
        "\n",
        "# Calculating the F1 score\n",
        "f1 = f1_score(y_test, prediction)\n",
        "print(f\"F1 Score: {f1:.2f}\")\n"
      ]
    },
    {
      "cell_type": "code",
      "execution_count": null,
      "metadata": {
        "colab": {
          "base_uri": "https://localhost:8080/"
        },
        "id": "2C4zJGDaBjMb",
        "outputId": "d25b3229-ec08-4f5f-8b2c-61c1afdcbd29"
      },
      "outputs": [
        {
          "data": {
            "text/plain": [
              "553    0\n",
              "601    1\n",
              "261    1\n",
              "496    1\n",
              "529    1\n",
              "      ..\n",
              "121    1\n",
              "20     0\n",
              "71     1\n",
              "106    1\n",
              "270    1\n",
              "Name: Loan_Status_Y, Length: 372, dtype: uint8"
            ]
          },
          "execution_count": 5,
          "metadata": {},
          "output_type": "execute_result"
        }
      ],
      "source": [
        "import pandas as pd\n",
        "from sklearn.neighbors import KNeighborsClassifier\n",
        "from sklearn.model_selection import train_test_split\n",
        "from sklearn.metrics import accuracy_score, recall_score, confusion_matrix, precision_score, f1_score\n",
        "\n",
        "# Loading the dataset\n",
        "loan_data = pd.read_csv('Loan_Data.csv')\n",
        "\n",
        "# Encoding the categorical features (string data) in the dataset into numerical features\n",
        "encoded_loan_data = pd.get_dummies(loan_data, columns=['Gender', 'Married', 'Education', 'Self_Employed', 'Property_Area', 'Loan_Status'])\n",
        "X = encoded_loan_data.drop(columns=['Loan_Status_N', 'Loan_Status_Y', 'Loan_ID', 'Dependents'])\n",
        "y = encoded_loan_data['Loan_Status_Y']\n",
        "\n",
        "# Splitting the data into train and test sets\n",
        "X_train, X_test, y_train, y_test = train_test_split(X, y, test_size=0.3, random_state=42)\n",
        "\n",
        "# Handling missing values in the train data\n",
        "X_train.dropna(inplace=True)\n",
        "y_train = y_train.loc[X_train.index]\n",
        "y_train"
      ]
    }
  ],
  "metadata": {
    "colab": {
      "provenance": []
    },
    "kernelspec": {
      "display_name": "Python 3",
      "name": "python3"
    },
    "language_info": {
      "name": "python",
      "version": "3.12.0"
    }
  },
  "nbformat": 4,
  "nbformat_minor": 0
}
